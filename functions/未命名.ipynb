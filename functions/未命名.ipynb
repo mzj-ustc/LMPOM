{
 "cells": [
  {
   "cell_type": "code",
   "execution_count": 1,
   "id": "b6206404-7283-4e3b-b7c3-2f419a8f5c64",
   "metadata": {},
   "outputs": [
    {
     "name": "stderr",
     "output_type": "stream",
     "text": [
      "/usr/local/lib/python3.9/dist-packages/torch/functional.py:568: UserWarning: torch.meshgrid: in an upcoming release, it will be required to pass the indexing argument. (Triggered internally at  /home/mist/pytorch/aten/src/ATen/native/TensorShape.cpp:2228.)\n",
      "  return _VF.meshgrid(tensors, **kwargs)  # type: ignore[attr-defined]\n"
     ]
    }
   ],
   "source": [
    "from mlopt import Mlopt\n",
    "from truss import Truss\n",
    "from utils import unique, get_logger, Batch_evaluate\n",
    "\n",
    "truss = Truss(n_node=20, device='cpu')\n",
    "func1 = truss.get_function(inverse=True)"
   ]
  },
  {
   "cell_type": "code",
   "execution_count": 2,
   "id": "aa947e9e-b187-4f01-aef0-0783d60a70bb",
   "metadata": {},
   "outputs": [],
   "source": [
    "import torch"
   ]
  },
  {
   "cell_type": "code",
   "execution_count": 3,
   "id": "24171c91-1263-4fab-8b06-687499f45e9a",
   "metadata": {},
   "outputs": [],
   "source": [
    "input=torch.load(\"result_inputs.pt\")"
   ]
  },
  {
   "cell_type": "code",
   "execution_count": 7,
   "id": "587fce59-bdf5-497e-8299-4e20a89dda1a",
   "metadata": {},
   "outputs": [],
   "source": [
    "input=input.to(\"cpu\")"
   ]
  },
  {
   "cell_type": "code",
   "execution_count": 8,
   "id": "bf868012-14aa-4d96-8bd5-835a98f03606",
   "metadata": {},
   "outputs": [],
   "source": [
    "outputs=func1(input)"
   ]
  },
  {
   "cell_type": "code",
   "execution_count": 10,
   "id": "0f7e238c-1ac2-4521-820a-0b6520e5deb4",
   "metadata": {},
   "outputs": [
    {
     "data": {
      "text/plain": [
       "203.01794720680155"
      ]
     },
     "execution_count": 10,
     "metadata": {},
     "output_type": "execute_result"
    }
   ],
   "source": [
    "1/outputs.max().item()"
   ]
  },
  {
   "cell_type": "code",
   "execution_count": null,
   "id": "fa157846-48bc-4271-8eb8-f617e4d3f91c",
   "metadata": {},
   "outputs": [],
   "source": [
    "outputs.armax"
   ]
  }
 ],
 "metadata": {
  "kernelspec": {
   "display_name": "Python 3 (ipykernel)",
   "language": "python",
   "name": "python3"
  },
  "language_info": {
   "codemirror_mode": {
    "name": "ipython",
    "version": 3
   },
   "file_extension": ".py",
   "mimetype": "text/x-python",
   "name": "python",
   "nbconvert_exporter": "python",
   "pygments_lexer": "ipython3",
   "version": "3.9.12"
  }
 },
 "nbformat": 4,
 "nbformat_minor": 5
}
